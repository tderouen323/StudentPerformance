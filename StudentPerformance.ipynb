{
 "cells": [
  {
   "cell_type": "code",
   "execution_count": 2,
   "metadata": {},
   "outputs": [],
   "source": [
    "#importing all packages\n",
    "import pandas as pd\n",
    "import numpy as np\n",
    "import matplotlib.pyplot as plt\n",
    "from sklearn import svm, datasets, metrics\n",
    "from sklearn.model_selection import train_test_split, cross_val_score\n",
    "from sklearn.ensemble import RandomForestClassifier\n",
    "from sklearn.metrics import classification_report, accuracy_score"
   ]
  },
  {
   "cell_type": "code",
   "execution_count": 3,
   "metadata": {},
   "outputs": [],
   "source": [
    "#importing data from file location\n",
    "df = pd.read_csv (r\"C:\\Users\\tdero\\Documents\\Datasets\\student-mat.csv\", sep=\";\")"
   ]
  },
  {
   "cell_type": "code",
   "execution_count": 4,
   "metadata": {},
   "outputs": [],
   "source": [
    "#data cleaning\n",
    "del df['Dalc']\n",
    "del df['Walc']\n",
    "\n",
    "#setting the final test score to be wither pass or fail\n",
    "for index, row in df.iterrows():\n",
    "    if(df['G3'].values[index] >= 10):\n",
    "        df['G3'].values[index] =1\n",
    "    else:\n",
    "        df['G3'].values[index] =0\n",
    "\n",
    "#replacig nominal data with numerical binary data\n",
    "for index, row in df.iterrows():\n",
    "    if(df['sex'].values[index] =='M'):\n",
    "        df['sex'].values[index] = 1\n",
    "    else:\n",
    "        df['sex'].values[index] =0\n",
    "        \n",
    "for index, row in df.iterrows():\n",
    "    if(df['address'].values[index] == \"R\"):\n",
    "        df['address'].values[index] =1\n",
    "    else:\n",
    "        df['address'].values[index] =0\n",
    "        \n",
    "for index, row in df.iterrows():\n",
    "    if(df['famsize'].values[index] == \"LE3\"):\n",
    "        df['famsize'].values[index] =1\n",
    "    else:\n",
    "        df['famsize'].values[index] =0\n",
    "        \n",
    "for index, row in df.iterrows():\n",
    "    if(df['Pstatus'].values[index] =='T'):\n",
    "        df['Pstatus'].values[index] =1\n",
    "    else:\n",
    "        df['Pstatus'].values[index] =0\n",
    "        \n",
    "for index, row in df.iterrows():\n",
    "    if(df['schoolsup'].values[index] == \"yes\"):\n",
    "        df['schoolsup'].values[index] =1\n",
    "    else:\n",
    "        df['schoolsup'].values[index] =0\n",
    "        \n",
    "for index, row in df.iterrows():\n",
    "    if(df['famsup'].values[index] == \"yes\"):\n",
    "        df['famsup'].values[index] =1\n",
    "    else:\n",
    "        df['famsup'].values[index] =0\n",
    "        \n",
    "for index, row in df.iterrows():\n",
    "    if(df['paid'].values[index] == \"yes\"):\n",
    "        df['paid'].values[index] =1\n",
    "    else:\n",
    "        df['paid'].values[index] =0\n",
    "        \n",
    "for index, row in df.iterrows():\n",
    "    if(df['activities'].values[index] == \"yes\"):\n",
    "        df['activities'].values[index] =1\n",
    "    else:\n",
    "        df['activities'].values[index] =0\n",
    "        \n",
    "for index, row in df.iterrows():\n",
    "    if(df['nursery'].values[index] == \"yes\"):\n",
    "        df['nursery'].values[index] =1\n",
    "    else:\n",
    "        df['nursery'].values[index] =0\n",
    "        \n",
    "for index, row in df.iterrows():\n",
    "    if(df['higher'].values[index] == \"yes\"):\n",
    "        df['higher'].values[index] =1\n",
    "    else:\n",
    "        df['higher'].values[index] =0\n",
    "        \n",
    "for index, row in df.iterrows():\n",
    "    if(df['internet'].values[index] == \"yes\"):\n",
    "        df['internet'].values[index] =1\n",
    "    else:\n",
    "        df['internet'].values[index] =0\n",
    "        \n",
    "for index, row in df.iterrows():\n",
    "    if(df['romantic'].values[index] == \"yes\"):\n",
    "        df['romantic'].values[index] =1\n",
    "    else:\n",
    "        df['romantic'].values[index] =0\n",
    "        \n",
    "for index, row in df.iterrows():\n",
    "    if(df['school'].values[index] == \"MS\"):\n",
    "        df['school'].values[index] =1\n",
    "    else:\n",
    "        df['school'].values[index] =0\n",
    "        \n",
    "#converting categorical data into numeric\n",
    "df['Fjob'] = df['Fjob'].astype('category')\n",
    "df['Fjob'] = df['Fjob'].cat.codes\n",
    "\n",
    "df['Mjob'] = df['Mjob'].astype('category')\n",
    "df['Mjob'] = df['Mjob'].cat.codes\n",
    "\n",
    "df['reason'] = df['reason'].astype('category')\n",
    "df['reason'] = df['reason'].cat.codes\n",
    "\n",
    "df['guardian'] = df['guardian'].astype('category')\n",
    "df['guardian'] = df['guardian'].cat.codes"
   ]
  },
  {
   "cell_type": "code",
   "execution_count": 5,
   "metadata": {},
   "outputs": [],
   "source": [
    "#splittling the data into input and output features\n",
    "X = df.iloc[:, :-1].values\n",
    "Y = df.iloc[:,-1].values"
   ]
  },
  {
   "cell_type": "code",
   "execution_count": 6,
   "metadata": {},
   "outputs": [],
   "source": [
    "#splitting the testing and trianing data witha 80/20 ratio\n",
    "X_train, X_test, y_train, y_test = train_test_split(X, Y, test_size=0.2)"
   ]
  },
  {
   "cell_type": "code",
   "execution_count": 7,
   "metadata": {},
   "outputs": [],
   "source": [
    "#initializing a random forest classifier with 128 decision trees\n",
    "rfc = RandomForestClassifier(n_estimators=128)\n",
    "rfc.fit(X_train,y_train)\n",
    "rfc_predict = rfc.predict(X_test)"
   ]
  },
  {
   "cell_type": "code",
   "execution_count": 8,
   "metadata": {},
   "outputs": [
    {
     "name": "stdout",
     "output_type": "stream",
     "text": [
      "CLassification report:                precision    recall  f1-score   support\n",
      "\n",
      "           0       0.83      0.90      0.86        21\n",
      "           1       0.96      0.93      0.95        58\n",
      "\n",
      "    accuracy                           0.92        79\n",
      "   macro avg       0.90      0.92      0.91        79\n",
      "weighted avg       0.93      0.92      0.93        79\n",
      "\n",
      "Cross validated score:  0.970140258601797\n",
      "Accuracy score:  0.9240506329113924\n"
     ]
    }
   ],
   "source": [
    "print(\"CLassification report: \" , classification_report(y_test, rfc_predict))\n",
    "rfc_cv_score = cross_val_score(rfc, X, Y, cv=10, scoring='roc_auc')\n",
    "print(\"Cross validated score: \", rfc_cv_score.mean())\n",
    "#Accuracy of classifier\n",
    "print(\"Accuracy score: \", accuracy_score(y_test, rfc_predict))\n"
   ]
  },
  {
   "cell_type": "code",
   "execution_count": 9,
   "metadata": {},
   "outputs": [
    {
     "name": "stdout",
     "output_type": "stream",
     "text": [
      "Feature: school, Score:0.00435\n",
      "Feature: sex, Score:0.00733\n",
      "Feature: age, Score:0.03035\n",
      "Feature: address, Score:0.00884\n",
      "Feature: famsize, Score:0.01011\n",
      "Feature: Pstatus, Score:0.00472\n",
      "Feature: Medu, Score:0.01688\n",
      "Feature: Fedu, Score:0.01805\n",
      "Feature: Mjob, Score:0.01884\n",
      "Feature: Fjob, Score:0.01916\n",
      "Feature: reason, Score:0.01767\n",
      "Feature: guardian, Score:0.01506\n",
      "Feature: traveltime, Score:0.01190\n",
      "Feature: studytime, Score:0.01456\n",
      "Feature: failures, Score:0.03406\n",
      "Feature: schoolsup, Score:0.00873\n",
      "Feature: famsup, Score:0.00800\n",
      "Feature: paid, Score:0.00836\n",
      "Feature: activities, Score:0.01059\n",
      "Feature: nursery, Score:0.00721\n",
      "Feature: higher, Score:0.00354\n",
      "Feature: internet, Score:0.00613\n",
      "Feature: romantic, Score:0.01254\n",
      "Feature: famrel, Score:0.01802\n",
      "Feature: freetime, Score:0.02089\n",
      "Feature: goout, Score:0.02814\n",
      "Feature: health, Score:0.01857\n",
      "Feature: absences, Score:0.04903\n",
      "Feature: G1, Score:0.23077\n",
      "Feature: G2, Score:0.33764\n"
     ]
    },
    {
     "data": {
      "image/png": "[encoded data removed]",
      "text/plain": [
       "<Figure size 432x288 with 1 Axes>"
      ]
     },
     "metadata": {
      "needs_background": "light"
     },
     "output_type": "display_data"
    }
   ],
   "source": [
    "#plot of feature importance\n",
    "importance = rfc.feature_importances_\n",
    "for i,v in enumerate(importance):\n",
    "    print('Feature: %s, Score:%.5f' % (df.columns[i],v))\n",
    "plt.bar([x for x in range(len(importance))], importance)\n",
    "plt.show()"
   ]
  },
  {
   "cell_type": "code",
   "execution_count": null,
   "metadata": {},
   "outputs": [],
   "source": []
  },
  {
   "cell_type": "code",
   "execution_count": 10,
   "metadata": {},
   "outputs": [],
   "source": [
    "#make a cpoy of original dataset so Random Forest algorithm can be applied without G1 and G2 scores\n",
    "df2 = df.copy()"
   ]
  },
  {
   "cell_type": "code",
   "execution_count": 11,
   "metadata": {},
   "outputs": [],
   "source": [
    "del df2['G2']\n",
    "del df2['G1']"
   ]
  },
  {
   "cell_type": "code",
   "execution_count": 12,
   "metadata": {},
   "outputs": [
    {
     "name": "stdout",
     "output_type": "stream",
     "text": [
      "Classification report:                precision    recall  f1-score   support\n",
      "\n",
      "           0       0.80      0.18      0.30        22\n",
      "           1       0.76      0.98      0.85        57\n",
      "\n",
      "    accuracy                           0.76        79\n",
      "   macro avg       0.78      0.58      0.58        79\n",
      "weighted avg       0.77      0.76      0.70        79\n",
      "\n",
      "Cross_validated score:  0.6614781941705019\n",
      "Accuracy score:  0.759493670886076\n"
     ]
    }
   ],
   "source": [
    "#input and output data selected, random forest applied to split train and test data, accuracy scores printed\n",
    "X_rfc = df2.iloc[:, :-1].values\n",
    "Y_rfc = df2.iloc[:,-1].values\n",
    "\n",
    "X_train_rfc, X_test_rfc, y_train_rfc, y_test_rfc = train_test_split(X_rfc, Y_rfc, test_size=0.2)\n",
    "\n",
    "rfc2 = RandomForestClassifier(n_estimators=128)\n",
    "rfc2.fit(X_train_rfc,y_train_rfc)\n",
    "rfc2_predict = rfc2.predict(X_test_rfc)\n",
    "\n",
    "print(\"Classification report: \", classification_report(y_test_rfc, rfc2_predict))\n",
    "\n",
    "rfc_cv_score2 = cross_val_score(rfc2, X_rfc, Y_rfc, cv=10, scoring='roc_auc')\n",
    "print(\"Cross_validated score: \", rfc_cv_score2.mean())\n",
    "\n",
    "print(\"Accuracy score: \", accuracy_score(y_test_rfc, rfc2_predict))\n"
   ]
  },
  {
   "cell_type": "code",
   "execution_count": 13,
   "metadata": {},
   "outputs": [
    {
     "name": "stdout",
     "output_type": "stream",
     "text": [
      "Feature: school, Score:0.01307\n",
      "Feature: sex, Score:0.02024\n",
      "Feature: age, Score:0.05881\n",
      "Feature: address, Score:0.01853\n",
      "Feature: famsize, Score:0.01840\n",
      "Feature: Pstatus, Score:0.00983\n",
      "Feature: Medu, Score:0.04788\n",
      "Feature: Fedu, Score:0.04161\n",
      "Feature: Mjob, Score:0.04597\n",
      "Feature: Fjob, Score:0.04246\n",
      "Feature: reason, Score:0.04341\n",
      "Feature: guardian, Score:0.02903\n",
      "Feature: traveltime, Score:0.02635\n",
      "Feature: studytime, Score:0.04017\n",
      "Feature: failures, Score:0.08108\n",
      "Feature: schoolsup, Score:0.02177\n",
      "Feature: famsup, Score:0.01789\n",
      "Feature: paid, Score:0.02092\n",
      "Feature: activities, Score:0.02176\n",
      "Feature: nursery, Score:0.01748\n",
      "Feature: higher, Score:0.02262\n",
      "Feature: internet, Score:0.01859\n",
      "Feature: romantic, Score:0.02291\n",
      "Feature: famrel, Score:0.04714\n",
      "Feature: freetime, Score:0.05067\n",
      "Feature: goout, Score:0.06434\n",
      "Feature: health, Score:0.04868\n",
      "Feature: absences, Score:0.08839\n"
     ]
    },
    {
     "data": {
      "image/png": "[encoded data removed]",
      "text/plain": [
       "<Figure size 432x288 with 1 Axes>"
      ]
     },
     "metadata": {
      "needs_background": "light"
     },
     "output_type": "display_data"
    }
   ],
   "source": [
    "#feature importance applied and plot of important features shown\n",
    "importance2 = rfc2.feature_importances_\n",
    "for i,v in enumerate(importance2):\n",
    "    print('Feature: %s, Score:%.5f' % (df2.columns[i],v))\n",
    "plt.bar([x for x in range(len(importance2))], importance2)\n",
    "plt.show()"
   ]
  },
  {
   "cell_type": "code",
   "execution_count": null,
   "metadata": {},
   "outputs": [],
   "source": []
  },
  {
   "cell_type": "code",
   "execution_count": null,
   "metadata": {},
   "outputs": [],
   "source": []
  },
  {
   "cell_type": "code",
   "execution_count": null,
   "metadata": {},
   "outputs": [],
   "source": []
  },
  {
   "cell_type": "raw",
   "metadata": {},
   "source": []
  }
 ],
 "metadata": {
  "kernelspec": {
   "display_name": "Python 3",
   "language": "python",
   "name": "python3"
  },
  "language_info": {
   "codemirror_mode": {
    "name": "ipython",
    "version": 3
   },
   "file_extension": ".py",
   "mimetype": "text/x-python",
   "name": "python",
   "nbconvert_exporter": "python",
   "pygments_lexer": "ipython3",
   "version": "3.8.3"
  }
 },
 "nbformat": 4,
 "nbformat_minor": 4
}
